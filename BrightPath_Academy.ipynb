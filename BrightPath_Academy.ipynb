{
  "metadata": {
    "kernelspec": {
      "name": "python",
      "display_name": "Python (Pyodide)",
      "language": "python"
    },
    "language_info": {
      "codemirror_mode": {
        "name": "python",
        "version": 3
      },
      "file_extension": ".py",
      "mimetype": "text/x-python",
      "name": "python",
      "nbconvert_exporter": "python",
      "pygments_lexer": "ipython3",
      "version": "3.8"
    }
  },
  "nbformat_minor": 5,
  "nbformat": 4,
  "cells": [
    {
      "id": "95c85ce9",
      "cell_type": "markdown",
      "source": "Importing libraries\nLoading data\nUnderstanding the data",
      "metadata": {}
    },
    {
      "id": "6814af53-8c7a-41ba-bb0d-3e543d450e6a",
      "cell_type": "code",
      "source": "%pip install seaborn",
      "metadata": {
        "trusted": true
      },
      "outputs": [],
      "execution_count": 1
    },
    {
      "id": "7478de3b",
      "cell_type": "code",
      "source": "import pandas as pd\nimport numpy as np\nimport matplotlib.pyplot as plt\nimport seaborn as sns\n\nfrom sklearn.preprocessing import StandardScaler\nfrom sklearn.linear_model import LogisticRegression\nfrom sklearn.model_selection import train_test_split\nfrom sklearn.metrics import accuracy_score, confusion_matrix, classification_report, f1_score, mean_squared_error, r2_score\n\ndf = pd.read_csv('Student_performance_data.csv')\n\ndisplay(df.head())\n\nprint(\"Data Info:\")\ndisplay(df.info())\nprint(\"\\nNull Values:\")\ndisplay(df.isnull().sum())\n\ndf = df.dropna()",
      "metadata": {
        "trusted": true
      },
      "outputs": [
        {
          "output_type": "display_data",
          "data": {
            "text/plain": "   StudentID  Age  Gender  Ethnicity  ParentalEducation  StudyTimeWeekly  \\\n0       1001   17       1          0                  2        19.833723   \n1       1002   18       0          0                  1        15.408756   \n2       1003   15       0          2                  3         4.210570   \n3       1004   17       1          0                  3        10.028829   \n4       1005   17       1          0                  2         4.672495   \n\n   Absences  Tutoring  ParentalSupport  Extracurricular  Sports  Music  \\\n0         7         1                2                0       0      1   \n1         0         0                1                0       0      0   \n2        26         0                2                0       0      0   \n3        14         0                3                1       0      0   \n4        17         1                3                0       0      0   \n\n   Volunteering       GPA  GradeClass  \n0             0  2.929196         2.0  \n1             0  3.042915         1.0  \n2             0  0.112602         4.0  \n3             0  2.054218         3.0  \n4             0  1.288061         4.0  ",
            "text/html": "<div>\n<style scoped>\n    .dataframe tbody tr th:only-of-type {\n        vertical-align: middle;\n    }\n\n    .dataframe tbody tr th {\n        vertical-align: top;\n    }\n\n    .dataframe thead th {\n        text-align: right;\n    }\n</style>\n<table border=\"1\" class=\"dataframe\">\n  <thead>\n    <tr style=\"text-align: right;\">\n      <th></th>\n      <th>StudentID</th>\n      <th>Age</th>\n      <th>Gender</th>\n      <th>Ethnicity</th>\n      <th>ParentalEducation</th>\n      <th>StudyTimeWeekly</th>\n      <th>Absences</th>\n      <th>Tutoring</th>\n      <th>ParentalSupport</th>\n      <th>Extracurricular</th>\n      <th>Sports</th>\n      <th>Music</th>\n      <th>Volunteering</th>\n      <th>GPA</th>\n      <th>GradeClass</th>\n    </tr>\n  </thead>\n  <tbody>\n    <tr>\n      <th>0</th>\n      <td>1001</td>\n      <td>17</td>\n      <td>1</td>\n      <td>0</td>\n      <td>2</td>\n      <td>19.833723</td>\n      <td>7</td>\n      <td>1</td>\n      <td>2</td>\n      <td>0</td>\n      <td>0</td>\n      <td>1</td>\n      <td>0</td>\n      <td>2.929196</td>\n      <td>2.0</td>\n    </tr>\n    <tr>\n      <th>1</th>\n      <td>1002</td>\n      <td>18</td>\n      <td>0</td>\n      <td>0</td>\n      <td>1</td>\n      <td>15.408756</td>\n      <td>0</td>\n      <td>0</td>\n      <td>1</td>\n      <td>0</td>\n      <td>0</td>\n      <td>0</td>\n      <td>0</td>\n      <td>3.042915</td>\n      <td>1.0</td>\n    </tr>\n    <tr>\n      <th>2</th>\n      <td>1003</td>\n      <td>15</td>\n      <td>0</td>\n      <td>2</td>\n      <td>3</td>\n      <td>4.210570</td>\n      <td>26</td>\n      <td>0</td>\n      <td>2</td>\n      <td>0</td>\n      <td>0</td>\n      <td>0</td>\n      <td>0</td>\n      <td>0.112602</td>\n      <td>4.0</td>\n    </tr>\n    <tr>\n      <th>3</th>\n      <td>1004</td>\n      <td>17</td>\n      <td>1</td>\n      <td>0</td>\n      <td>3</td>\n      <td>10.028829</td>\n      <td>14</td>\n      <td>0</td>\n      <td>3</td>\n      <td>1</td>\n      <td>0</td>\n      <td>0</td>\n      <td>0</td>\n      <td>2.054218</td>\n      <td>3.0</td>\n    </tr>\n    <tr>\n      <th>4</th>\n      <td>1005</td>\n      <td>17</td>\n      <td>1</td>\n      <td>0</td>\n      <td>2</td>\n      <td>4.672495</td>\n      <td>17</td>\n      <td>1</td>\n      <td>3</td>\n      <td>0</td>\n      <td>0</td>\n      <td>0</td>\n      <td>0</td>\n      <td>1.288061</td>\n      <td>4.0</td>\n    </tr>\n  </tbody>\n</table>\n</div>"
          },
          "metadata": {}
        },
        {
          "name": "stdout",
          "output_type": "stream",
          "text": "Data Info:\n<class 'pandas.core.frame.DataFrame'>\nRangeIndex: 2392 entries, 0 to 2391\nData columns (total 15 columns):\n #   Column             Non-Null Count  Dtype  \n---  ------             --------------  -----  \n 0   StudentID          2392 non-null   int64  \n 1   Age                2392 non-null   int64  \n 2   Gender             2392 non-null   int64  \n 3   Ethnicity          2392 non-null   int64  \n 4   ParentalEducation  2392 non-null   int64  \n 5   StudyTimeWeekly    2392 non-null   float64\n 6   Absences           2392 non-null   int64  \n 7   Tutoring           2392 non-null   int64  \n 8   ParentalSupport    2392 non-null   int64  \n 9   Extracurricular    2392 non-null   int64  \n 10  Sports             2392 non-null   int64  \n 11  Music              2392 non-null   int64  \n 12  Volunteering       2392 non-null   int64  \n 13  GPA                2392 non-null   float64\n 14  GradeClass         2392 non-null   float64\ndtypes: float64(3), int64(12)\nmemory usage: 280.4 KB\n"
        },
        {
          "output_type": "display_data",
          "data": {
            "text/plain": "None"
          },
          "metadata": {}
        },
        {
          "name": "stdout",
          "output_type": "stream",
          "text": "\nNull Values:\n"
        },
        {
          "output_type": "display_data",
          "data": {
            "text/plain": "StudentID            0\nAge                  0\nGender               0\nEthnicity            0\nParentalEducation    0\nStudyTimeWeekly      0\nAbsences             0\nTutoring             0\nParentalSupport      0\nExtracurricular      0\nSports               0\nMusic                0\nVolunteering         0\nGPA                  0\nGradeClass           0\ndtype: int64"
          },
          "metadata": {}
        }
      ],
      "execution_count": 15
    },
    {
      "id": "cd91339c",
      "cell_type": "code",
      "source": "display(df.describe().T)",
      "metadata": {
        "trusted": true
      },
      "outputs": [
        {
          "output_type": "display_data",
          "data": {
            "text/plain": "                    count         mean         std          min          25%  \\\nStudentID          2392.0  2196.500000  690.655244  1001.000000  1598.750000   \nAge                2392.0    16.468645    1.123798    15.000000    15.000000   \nGender             2392.0     0.510870    0.499986     0.000000     0.000000   \nEthnicity          2392.0     0.877508    1.028476     0.000000     0.000000   \nParentalEducation  2392.0     1.746237    1.000411     0.000000     1.000000   \nStudyTimeWeekly    2392.0     9.771992    5.652774     0.001057     5.043079   \nAbsences           2392.0    14.541388    8.467417     0.000000     7.000000   \nTutoring           2392.0     0.301421    0.458971     0.000000     0.000000   \nParentalSupport    2392.0     2.122074    1.122813     0.000000     1.000000   \nExtracurricular    2392.0     0.383361    0.486307     0.000000     0.000000   \nSports             2392.0     0.303512    0.459870     0.000000     0.000000   \nMusic              2392.0     0.196906    0.397744     0.000000     0.000000   \nVolunteering       2392.0     0.157191    0.364057     0.000000     0.000000   \nGPA                2392.0     1.906186    0.915156     0.000000     1.174803   \nGradeClass         2392.0     2.983696    1.233908     0.000000     2.000000   \n\n                           50%          75%          max  \nStudentID          2196.500000  2794.250000  3392.000000  \nAge                  16.000000    17.000000    18.000000  \nGender                1.000000     1.000000     1.000000  \nEthnicity             0.000000     2.000000     3.000000  \nParentalEducation     2.000000     2.000000     4.000000  \nStudyTimeWeekly       9.705363    14.408410    19.978094  \nAbsences             15.000000    22.000000    29.000000  \nTutoring              0.000000     1.000000     1.000000  \nParentalSupport       2.000000     3.000000     4.000000  \nExtracurricular       0.000000     1.000000     1.000000  \nSports                0.000000     1.000000     1.000000  \nMusic                 0.000000     0.000000     1.000000  \nVolunteering          0.000000     0.000000     1.000000  \nGPA                   1.893393     2.622216     4.000000  \nGradeClass            4.000000     4.000000     4.000000  ",
            "text/html": "<div>\n<style scoped>\n    .dataframe tbody tr th:only-of-type {\n        vertical-align: middle;\n    }\n\n    .dataframe tbody tr th {\n        vertical-align: top;\n    }\n\n    .dataframe thead th {\n        text-align: right;\n    }\n</style>\n<table border=\"1\" class=\"dataframe\">\n  <thead>\n    <tr style=\"text-align: right;\">\n      <th></th>\n      <th>count</th>\n      <th>mean</th>\n      <th>std</th>\n      <th>min</th>\n      <th>25%</th>\n      <th>50%</th>\n      <th>75%</th>\n      <th>max</th>\n    </tr>\n  </thead>\n  <tbody>\n    <tr>\n      <th>StudentID</th>\n      <td>2392.0</td>\n      <td>2196.500000</td>\n      <td>690.655244</td>\n      <td>1001.000000</td>\n      <td>1598.750000</td>\n      <td>2196.500000</td>\n      <td>2794.250000</td>\n      <td>3392.000000</td>\n    </tr>\n    <tr>\n      <th>Age</th>\n      <td>2392.0</td>\n      <td>16.468645</td>\n      <td>1.123798</td>\n      <td>15.000000</td>\n      <td>15.000000</td>\n      <td>16.000000</td>\n      <td>17.000000</td>\n      <td>18.000000</td>\n    </tr>\n    <tr>\n      <th>Gender</th>\n      <td>2392.0</td>\n      <td>0.510870</td>\n      <td>0.499986</td>\n      <td>0.000000</td>\n      <td>0.000000</td>\n      <td>1.000000</td>\n      <td>1.000000</td>\n      <td>1.000000</td>\n    </tr>\n    <tr>\n      <th>Ethnicity</th>\n      <td>2392.0</td>\n      <td>0.877508</td>\n      <td>1.028476</td>\n      <td>0.000000</td>\n      <td>0.000000</td>\n      <td>0.000000</td>\n      <td>2.000000</td>\n      <td>3.000000</td>\n    </tr>\n    <tr>\n      <th>ParentalEducation</th>\n      <td>2392.0</td>\n      <td>1.746237</td>\n      <td>1.000411</td>\n      <td>0.000000</td>\n      <td>1.000000</td>\n      <td>2.000000</td>\n      <td>2.000000</td>\n      <td>4.000000</td>\n    </tr>\n    <tr>\n      <th>StudyTimeWeekly</th>\n      <td>2392.0</td>\n      <td>9.771992</td>\n      <td>5.652774</td>\n      <td>0.001057</td>\n      <td>5.043079</td>\n      <td>9.705363</td>\n      <td>14.408410</td>\n      <td>19.978094</td>\n    </tr>\n    <tr>\n      <th>Absences</th>\n      <td>2392.0</td>\n      <td>14.541388</td>\n      <td>8.467417</td>\n      <td>0.000000</td>\n      <td>7.000000</td>\n      <td>15.000000</td>\n      <td>22.000000</td>\n      <td>29.000000</td>\n    </tr>\n    <tr>\n      <th>Tutoring</th>\n      <td>2392.0</td>\n      <td>0.301421</td>\n      <td>0.458971</td>\n      <td>0.000000</td>\n      <td>0.000000</td>\n      <td>0.000000</td>\n      <td>1.000000</td>\n      <td>1.000000</td>\n    </tr>\n    <tr>\n      <th>ParentalSupport</th>\n      <td>2392.0</td>\n      <td>2.122074</td>\n      <td>1.122813</td>\n      <td>0.000000</td>\n      <td>1.000000</td>\n      <td>2.000000</td>\n      <td>3.000000</td>\n      <td>4.000000</td>\n    </tr>\n    <tr>\n      <th>Extracurricular</th>\n      <td>2392.0</td>\n      <td>0.383361</td>\n      <td>0.486307</td>\n      <td>0.000000</td>\n      <td>0.000000</td>\n      <td>0.000000</td>\n      <td>1.000000</td>\n      <td>1.000000</td>\n    </tr>\n    <tr>\n      <th>Sports</th>\n      <td>2392.0</td>\n      <td>0.303512</td>\n      <td>0.459870</td>\n      <td>0.000000</td>\n      <td>0.000000</td>\n      <td>0.000000</td>\n      <td>1.000000</td>\n      <td>1.000000</td>\n    </tr>\n    <tr>\n      <th>Music</th>\n      <td>2392.0</td>\n      <td>0.196906</td>\n      <td>0.397744</td>\n      <td>0.000000</td>\n      <td>0.000000</td>\n      <td>0.000000</td>\n      <td>0.000000</td>\n      <td>1.000000</td>\n    </tr>\n    <tr>\n      <th>Volunteering</th>\n      <td>2392.0</td>\n      <td>0.157191</td>\n      <td>0.364057</td>\n      <td>0.000000</td>\n      <td>0.000000</td>\n      <td>0.000000</td>\n      <td>0.000000</td>\n      <td>1.000000</td>\n    </tr>\n    <tr>\n      <th>GPA</th>\n      <td>2392.0</td>\n      <td>1.906186</td>\n      <td>0.915156</td>\n      <td>0.000000</td>\n      <td>1.174803</td>\n      <td>1.893393</td>\n      <td>2.622216</td>\n      <td>4.000000</td>\n    </tr>\n    <tr>\n      <th>GradeClass</th>\n      <td>2392.0</td>\n      <td>2.983696</td>\n      <td>1.233908</td>\n      <td>0.000000</td>\n      <td>2.000000</td>\n      <td>4.000000</td>\n      <td>4.000000</td>\n      <td>4.000000</td>\n    </tr>\n  </tbody>\n</table>\n</div>"
          },
          "metadata": {}
        }
      ],
      "execution_count": 16
    },
    {
      "id": "7cfca909",
      "cell_type": "markdown",
      "source": "Exploratory data Analysis",
      "metadata": {}
    },
    {
      "id": "e4fe57c6",
      "cell_type": "markdown",
      "source": "Univariate",
      "metadata": {}
    },
    {
      "id": "922c44f8",
      "cell_type": "code",
      "source": "plt.figure(figsize=(8, 4))\nsns.countplot(data=df, x='GradeClass', palette='viridis')\nplt.title('Distribution of Grade Classes')\nplt.xlabel('Grade Class (0:A, 1:B, 2:C, 3:D, 4:F)')\nplt.ylabel('Number of Students')\nplt.show()",
      "metadata": {
        "trusted": true
      },
      "outputs": [
        {
          "output_type": "display_data",
          "data": {
            "text/plain": "<Figure size 800x400 with 0 Axes>"
          },
          "metadata": {}
        },
        {
          "ename": "<class 'NameError'>",
          "evalue": "name 'df' is not defined",
          "traceback": [
            "\u001b[0;31m---------------------------------------------------------------------------\u001b[0m",
            "\u001b[0;31mNameError\u001b[0m                                 Traceback (most recent call last)",
            "Cell \u001b[0;32mIn[4], line 2\u001b[0m\n\u001b[1;32m      1\u001b[0m plt\u001b[38;5;241m.\u001b[39mfigure(figsize\u001b[38;5;241m=\u001b[39m(\u001b[38;5;241m8\u001b[39m, \u001b[38;5;241m4\u001b[39m))\n\u001b[0;32m----> 2\u001b[0m sns\u001b[38;5;241m.\u001b[39mcountplot(data\u001b[38;5;241m=\u001b[39m\u001b[43mdf\u001b[49m, x\u001b[38;5;241m=\u001b[39m\u001b[38;5;124m'\u001b[39m\u001b[38;5;124mGradeClass\u001b[39m\u001b[38;5;124m'\u001b[39m, palette\u001b[38;5;241m=\u001b[39m\u001b[38;5;124m'\u001b[39m\u001b[38;5;124mviridis\u001b[39m\u001b[38;5;124m'\u001b[39m)\n\u001b[1;32m      3\u001b[0m plt\u001b[38;5;241m.\u001b[39mtitle(\u001b[38;5;124m'\u001b[39m\u001b[38;5;124mDistribution of Grade Classes\u001b[39m\u001b[38;5;124m'\u001b[39m)\n\u001b[1;32m      4\u001b[0m plt\u001b[38;5;241m.\u001b[39mxlabel(\u001b[38;5;124m'\u001b[39m\u001b[38;5;124mGrade Class (0:A, 1:B, 2:C, 3:D, 4:F)\u001b[39m\u001b[38;5;124m'\u001b[39m)\n",
            "\u001b[0;31mNameError\u001b[0m: name 'df' is not defined"
          ],
          "output_type": "error"
        }
      ],
      "execution_count": 4
    },
    {
      "id": "ea0ba872",
      "cell_type": "code",
      "source": "# Gender distribution\nplt.figure(figsize=(6, 4))\nsns.countplot(data=df, x='Gender', palette='pastel')\nplt.title('Gender Distribution (0:Male, 1:Female)')\nplt.show()\n\n# Parental Education\nplt.figure(figsize=(10, 4))\nsns.countplot(data=df, x='ParentalEducation', palette='Set2')\nplt.title('Parental Education Level (0:None, 1:HS, 2:Some College, 3:Bachelor’s, 4:Higher)')\nplt.show()",
      "metadata": {
        "trusted": true
      },
      "outputs": [
        {
          "output_type": "display_data",
          "data": {
            "text/plain": "<Figure size 600x400 with 0 Axes>"
          },
          "metadata": {}
        },
        {
          "ename": "<class 'NameError'>",
          "evalue": "name 'df' is not defined",
          "traceback": [
            "\u001b[0;31m---------------------------------------------------------------------------\u001b[0m",
            "\u001b[0;31mNameError\u001b[0m                                 Traceback (most recent call last)",
            "Cell \u001b[0;32mIn[5], line 3\u001b[0m\n\u001b[1;32m      1\u001b[0m \u001b[38;5;66;03m# Gender distribution\u001b[39;00m\n\u001b[1;32m      2\u001b[0m plt\u001b[38;5;241m.\u001b[39mfigure(figsize\u001b[38;5;241m=\u001b[39m(\u001b[38;5;241m6\u001b[39m, \u001b[38;5;241m4\u001b[39m))\n\u001b[0;32m----> 3\u001b[0m sns\u001b[38;5;241m.\u001b[39mcountplot(data\u001b[38;5;241m=\u001b[39m\u001b[43mdf\u001b[49m, x\u001b[38;5;241m=\u001b[39m\u001b[38;5;124m'\u001b[39m\u001b[38;5;124mGender\u001b[39m\u001b[38;5;124m'\u001b[39m, palette\u001b[38;5;241m=\u001b[39m\u001b[38;5;124m'\u001b[39m\u001b[38;5;124mpastel\u001b[39m\u001b[38;5;124m'\u001b[39m)\n\u001b[1;32m      4\u001b[0m plt\u001b[38;5;241m.\u001b[39mtitle(\u001b[38;5;124m'\u001b[39m\u001b[38;5;124mGender Distribution (0:Male, 1:Female)\u001b[39m\u001b[38;5;124m'\u001b[39m)\n\u001b[1;32m      5\u001b[0m plt\u001b[38;5;241m.\u001b[39mshow()\n",
            "\u001b[0;31mNameError\u001b[0m: name 'df' is not defined"
          ],
          "output_type": "error"
        }
      ],
      "execution_count": 5
    },
    {
      "id": "730e6dce",
      "cell_type": "code",
      "source": "# StudyTime and Absences distributions\nfig, axes = plt.subplots(1, 2, figsize=(12, 4))\nsns.histplot(df['StudyTimeWeekly'], bins=20, kde=True, ax=axes[0])\naxes[0].set_title('Weekly Study Time Distribution')\nsns.histplot(df['Absences'], bins=20, kde=True, ax=axes[1])\naxes[1].set_title('Absences Distribution')\nplt.show()\n\n# Boxplot for outliers\nplt.figure(figsize=(8, 4))\nsns.boxplot(data=df[['StudyTimeWeekly', 'Absences', 'GPA']], palette='Blues', orient='h')\nplt.title('Boxplot for Study Time, Absences, and GPA')\nplt.show()\n\n# Capping Absence Outliers\ndf_treated_abCap = df.copy()\nabsences_cap = df_treated_abCap['Absences'].quantile(0.70)\ndf_treated_abCap['Absences'] = np.where(df_treated_abCap['Absences'] > absences_cap, absences_cap, df_treated_abCap['Absences'])\n\nplt.figure(figsize=(8, 4))\nsns.boxplot(data=df_treated_abCap[['StudyTimeWeekly', 'Absences', 'GPA']], palette='Blues', orient='h')\nplt.title('Boxplot after Capping Absences')\nplt.show()\n\n# Standard Scaling for StudyTime, Absences, and GPA\nscaling_columns = ['StudyTimeWeekly', 'Absences', 'GPA']\nscaler = StandardScaler()\ndf_scaled = df.copy()\ndf_scaled[scaling_columns] = scaler.fit_transform(df[scaling_columns])\n\nplt.figure(figsize=(8, 4))\nsns.boxplot(data=df_scaled[['StudyTimeWeekly', 'Absences', 'GPA']], palette='Blues', orient='h')\nplt.title('Boxplot after Scaling')\nplt.show()\n",
      "metadata": {
        "trusted": true
      },
      "outputs": [
        {
          "output_type": "display_data",
          "data": {
            "text/plain": "<Figure size 1200x400 with 2 Axes>",
            "image/png": "[encoded data removed]"
          },
          "metadata": {}
        },
        {
          "ename": "<class 'NameError'>",
          "evalue": "name 'df' is not defined",
          "traceback": [
            "\u001b[0;31m---------------------------------------------------------------------------\u001b[0m",
            "\u001b[0;31mNameError\u001b[0m                                 Traceback (most recent call last)",
            "Cell \u001b[0;32mIn[6], line 3\u001b[0m\n\u001b[1;32m      1\u001b[0m \u001b[38;5;66;03m# StudyTime and Absences distributions\u001b[39;00m\n\u001b[1;32m      2\u001b[0m fig, axes \u001b[38;5;241m=\u001b[39m plt\u001b[38;5;241m.\u001b[39msubplots(\u001b[38;5;241m1\u001b[39m, \u001b[38;5;241m2\u001b[39m, figsize\u001b[38;5;241m=\u001b[39m(\u001b[38;5;241m12\u001b[39m, \u001b[38;5;241m4\u001b[39m))\n\u001b[0;32m----> 3\u001b[0m sns\u001b[38;5;241m.\u001b[39mhistplot(\u001b[43mdf\u001b[49m[\u001b[38;5;124m'\u001b[39m\u001b[38;5;124mStudyTimeWeekly\u001b[39m\u001b[38;5;124m'\u001b[39m], bins\u001b[38;5;241m=\u001b[39m\u001b[38;5;241m20\u001b[39m, kde\u001b[38;5;241m=\u001b[39m\u001b[38;5;28;01mTrue\u001b[39;00m, ax\u001b[38;5;241m=\u001b[39maxes[\u001b[38;5;241m0\u001b[39m])\n\u001b[1;32m      4\u001b[0m axes[\u001b[38;5;241m0\u001b[39m]\u001b[38;5;241m.\u001b[39mset_title(\u001b[38;5;124m'\u001b[39m\u001b[38;5;124mWeekly Study Time Distribution\u001b[39m\u001b[38;5;124m'\u001b[39m)\n\u001b[1;32m      5\u001b[0m sns\u001b[38;5;241m.\u001b[39mhistplot(df[\u001b[38;5;124m'\u001b[39m\u001b[38;5;124mAbsences\u001b[39m\u001b[38;5;124m'\u001b[39m], bins\u001b[38;5;241m=\u001b[39m\u001b[38;5;241m20\u001b[39m, kde\u001b[38;5;241m=\u001b[39m\u001b[38;5;28;01mTrue\u001b[39;00m, ax\u001b[38;5;241m=\u001b[39maxes[\u001b[38;5;241m1\u001b[39m])\n",
            "\u001b[0;31mNameError\u001b[0m: name 'df' is not defined"
          ],
          "output_type": "error"
        }
      ],
      "execution_count": 6
    },
    {
      "id": "f3a3c9ce",
      "cell_type": "markdown",
      "source": "Bivariate",
      "metadata": {}
    },
    {
      "id": "a9cf7592",
      "cell_type": "code",
      "source": "# Tutoring vs. GPA\nplt.figure(figsize=(8, 4))\nsns.boxplot(data=df, x='Tutoring', y='GPA', palette='coolwarm')\nplt.title('GPA Distribution by Tutoring Status (0:No, 1:Yes)')\nplt.show()\n\n# Extracurriculars vs. GPA\nplt.figure(figsize=(8, 4))\nsns.boxplot(data=df, x='Extracurricular', y='GPA', palette='muted')\nplt.title('GPA Distribution by Extracurricular Participation (0:No, 1:Yes)')\nplt.show()",
      "metadata": {
        "trusted": true
      },
      "outputs": [
        {
          "output_type": "display_data",
          "data": {
            "text/plain": "<Figure size 800x400 with 0 Axes>"
          },
          "metadata": {}
        },
        {
          "ename": "<class 'NameError'>",
          "evalue": "name 'df' is not defined",
          "traceback": [
            "\u001b[0;31m---------------------------------------------------------------------------\u001b[0m",
            "\u001b[0;31mNameError\u001b[0m                                 Traceback (most recent call last)",
            "Cell \u001b[0;32mIn[7], line 3\u001b[0m\n\u001b[1;32m      1\u001b[0m \u001b[38;5;66;03m# Tutoring vs. GPA\u001b[39;00m\n\u001b[1;32m      2\u001b[0m plt\u001b[38;5;241m.\u001b[39mfigure(figsize\u001b[38;5;241m=\u001b[39m(\u001b[38;5;241m8\u001b[39m, \u001b[38;5;241m4\u001b[39m))\n\u001b[0;32m----> 3\u001b[0m sns\u001b[38;5;241m.\u001b[39mboxplot(data\u001b[38;5;241m=\u001b[39m\u001b[43mdf\u001b[49m, x\u001b[38;5;241m=\u001b[39m\u001b[38;5;124m'\u001b[39m\u001b[38;5;124mTutoring\u001b[39m\u001b[38;5;124m'\u001b[39m, y\u001b[38;5;241m=\u001b[39m\u001b[38;5;124m'\u001b[39m\u001b[38;5;124mGPA\u001b[39m\u001b[38;5;124m'\u001b[39m, palette\u001b[38;5;241m=\u001b[39m\u001b[38;5;124m'\u001b[39m\u001b[38;5;124mcoolwarm\u001b[39m\u001b[38;5;124m'\u001b[39m)\n\u001b[1;32m      4\u001b[0m plt\u001b[38;5;241m.\u001b[39mtitle(\u001b[38;5;124m'\u001b[39m\u001b[38;5;124mGPA Distribution by Tutoring Status (0:No, 1:Yes)\u001b[39m\u001b[38;5;124m'\u001b[39m)\n\u001b[1;32m      5\u001b[0m plt\u001b[38;5;241m.\u001b[39mshow()\n",
            "\u001b[0;31mNameError\u001b[0m: name 'df' is not defined"
          ],
          "output_type": "error"
        }
      ],
      "execution_count": 7
    },
    {
      "id": "2b17b859",
      "cell_type": "code",
      "source": "plt.figure(figsize=(10, 6))\nsns.heatmap(df[['StudyTimeWeekly', 'Absences', 'GPA']].corr(), annot=True, cmap='coolwarm')\nplt.title('Correlation Between Study Time, Absences, and GPA')\nplt.show()",
      "metadata": {
        "trusted": true
      },
      "outputs": [
        {
          "output_type": "display_data",
          "data": {
            "text/plain": "<Figure size 1000x600 with 0 Axes>"
          },
          "metadata": {}
        },
        {
          "ename": "<class 'NameError'>",
          "evalue": "name 'df' is not defined",
          "traceback": [
            "\u001b[0;31m---------------------------------------------------------------------------\u001b[0m",
            "\u001b[0;31mNameError\u001b[0m                                 Traceback (most recent call last)",
            "Cell \u001b[0;32mIn[8], line 2\u001b[0m\n\u001b[1;32m      1\u001b[0m plt\u001b[38;5;241m.\u001b[39mfigure(figsize\u001b[38;5;241m=\u001b[39m(\u001b[38;5;241m10\u001b[39m, \u001b[38;5;241m6\u001b[39m))\n\u001b[0;32m----> 2\u001b[0m sns\u001b[38;5;241m.\u001b[39mheatmap(\u001b[43mdf\u001b[49m[[\u001b[38;5;124m'\u001b[39m\u001b[38;5;124mStudyTimeWeekly\u001b[39m\u001b[38;5;124m'\u001b[39m, \u001b[38;5;124m'\u001b[39m\u001b[38;5;124mAbsences\u001b[39m\u001b[38;5;124m'\u001b[39m, \u001b[38;5;124m'\u001b[39m\u001b[38;5;124mGPA\u001b[39m\u001b[38;5;124m'\u001b[39m]]\u001b[38;5;241m.\u001b[39mcorr(), annot\u001b[38;5;241m=\u001b[39m\u001b[38;5;28;01mTrue\u001b[39;00m, cmap\u001b[38;5;241m=\u001b[39m\u001b[38;5;124m'\u001b[39m\u001b[38;5;124mcoolwarm\u001b[39m\u001b[38;5;124m'\u001b[39m)\n\u001b[1;32m      3\u001b[0m plt\u001b[38;5;241m.\u001b[39mtitle(\u001b[38;5;124m'\u001b[39m\u001b[38;5;124mCorrelation Between Study Time, Absences, and GPA\u001b[39m\u001b[38;5;124m'\u001b[39m)\n\u001b[1;32m      4\u001b[0m plt\u001b[38;5;241m.\u001b[39mshow()\n",
            "\u001b[0;31mNameError\u001b[0m: name 'df' is not defined"
          ],
          "output_type": "error"
        }
      ],
      "execution_count": 8
    },
    {
      "id": "5cec9ea6",
      "cell_type": "code",
      "source": "# Create a new feature\ndf['TotalActivities'] = df['Sports'] + df['Music'] + df['Volunteering']\n\n# Plot impact on GPA\nplt.figure(figsize=(8, 4))\nsns.boxplot(data=df, x='TotalActivities', y='GPA', palette='viridis')\nplt.title('GPA Distribution by Total Extracurricular Activities')\nplt.show()",
      "metadata": {
        "trusted": true
      },
      "outputs": [
        {
          "ename": "<class 'NameError'>",
          "evalue": "name 'df' is not defined",
          "traceback": [
            "\u001b[0;31m---------------------------------------------------------------------------\u001b[0m",
            "\u001b[0;31mNameError\u001b[0m                                 Traceback (most recent call last)",
            "Cell \u001b[0;32mIn[9], line 2\u001b[0m\n\u001b[1;32m      1\u001b[0m \u001b[38;5;66;03m# Create a new feature\u001b[39;00m\n\u001b[0;32m----> 2\u001b[0m df[\u001b[38;5;124m'\u001b[39m\u001b[38;5;124mTotalActivities\u001b[39m\u001b[38;5;124m'\u001b[39m] \u001b[38;5;241m=\u001b[39m \u001b[43mdf\u001b[49m[\u001b[38;5;124m'\u001b[39m\u001b[38;5;124mSports\u001b[39m\u001b[38;5;124m'\u001b[39m] \u001b[38;5;241m+\u001b[39m df[\u001b[38;5;124m'\u001b[39m\u001b[38;5;124mMusic\u001b[39m\u001b[38;5;124m'\u001b[39m] \u001b[38;5;241m+\u001b[39m df[\u001b[38;5;124m'\u001b[39m\u001b[38;5;124mVolunteering\u001b[39m\u001b[38;5;124m'\u001b[39m]\n\u001b[1;32m      4\u001b[0m \u001b[38;5;66;03m# Plot impact on GPA\u001b[39;00m\n\u001b[1;32m      5\u001b[0m plt\u001b[38;5;241m.\u001b[39mfigure(figsize\u001b[38;5;241m=\u001b[39m(\u001b[38;5;241m8\u001b[39m, \u001b[38;5;241m4\u001b[39m))\n",
            "\u001b[0;31mNameError\u001b[0m: name 'df' is not defined"
          ],
          "output_type": "error"
        }
      ],
      "execution_count": 9
    },
    {
      "id": "41980b10",
      "cell_type": "markdown",
      "source": "Features and test_train data split",
      "metadata": {}
    },
    {
      "id": "7dc34099",
      "cell_type": "code",
      "source": "#I have selected these features based on theid correlation with the target variable from the heatmap in test. I think it would be wise to add that heatmap to main.\nfeatures = ['ParentalEducation', 'StudyTimeWeekly', 'Absences', 'Tutoring', 'ParentalSupport', 'GPA']\n\ntarget = 'GradeClass'\n\n# Splitting the data into features and target variable for each dataframe I tested with the boxplots earlier so we can compare the results from the models.\nX_unmodified = df[features]\ny_unmodified = df[target]\n\nx_capped = df_treated_abCap[features]\ny_capped = df_treated_abCap[target]\n\nX_scaled = df_scaled[features]\ny_scaled = df_scaled[target]\n\n# Splitting the data into training and testing sets for each dataframe. Using the same random state and size to ensure comparability.\nX_train_unmodified, X_test_unmodified, y_train_unmodified, y_test_unmodified = train_test_split(X_unmodified, y_unmodified, test_size=0.2, random_state=90)\nX_train_capped, X_test_capped, y_train_capped, y_test_capped = train_test_split(x_capped, y_capped, test_size=0.2, random_state=90)\nX_train_scaled, X_test_scaled, y_train_scaled, y_test_scaled = train_test_split(X_scaled, y_scaled, test_size=0.2, random_state=90)",
      "metadata": {
        "trusted": true
      },
      "outputs": [
        {
          "ename": "<class 'NameError'>",
          "evalue": "name 'df' is not defined",
          "traceback": [
            "\u001b[0;31m---------------------------------------------------------------------------\u001b[0m",
            "\u001b[0;31mNameError\u001b[0m                                 Traceback (most recent call last)",
            "Cell \u001b[0;32mIn[10], line 7\u001b[0m\n\u001b[1;32m      4\u001b[0m target \u001b[38;5;241m=\u001b[39m \u001b[38;5;124m'\u001b[39m\u001b[38;5;124mGradeClass\u001b[39m\u001b[38;5;124m'\u001b[39m\n\u001b[1;32m      6\u001b[0m \u001b[38;5;66;03m# Splitting the data into features and target variable for each dataframe I tested with the boxplots earlier so we can compare the results from the models.\u001b[39;00m\n\u001b[0;32m----> 7\u001b[0m X_unmodified \u001b[38;5;241m=\u001b[39m \u001b[43mdf\u001b[49m[features]\n\u001b[1;32m      8\u001b[0m y_unmodified \u001b[38;5;241m=\u001b[39m df[target]\n\u001b[1;32m     10\u001b[0m x_capped \u001b[38;5;241m=\u001b[39m df_treated_abCap[features]\n",
            "\u001b[0;31mNameError\u001b[0m: name 'df' is not defined"
          ],
          "output_type": "error"
        }
      ],
      "execution_count": 10
    },
    {
      "id": "87eb0dad",
      "cell_type": "markdown",
      "source": "Logistic regression model training",
      "metadata": {}
    },
    {
      "id": "976c40a6-329a-4e4e-836f-0482633afc14",
      "cell_type": "code",
      "source": "# Logistic Regression\nfrom sklearn.linear_model import LogisticRegression\nfrom sklearn.metrics import accuracy_score\nfrom sklearn.model_selection import cross_val_score\nlog_model = LogisticRegression(random_state=90)\nlog_model.fit(X_train_scaled, y_train_scaled)\nlog_scores = cross_val_score(log_model, X_scaled, y_scaled, cv = 5)\ny_pred_log = log_model.predict(X_test_scaled)\nprint(\"Logistic Regression Accuracy:\", accuracy_score(y_test_scaled, y_pred_log))\nprint(\"Logistic Regression CV score :\" , log_scores.mean())",
      "metadata": {
        "trusted": true
      },
      "outputs": [
        {
          "ename": "<class 'NameError'>",
          "evalue": "name 'X_train_scaled' is not defined",
          "traceback": [
            "\u001b[0;31m---------------------------------------------------------------------------\u001b[0m",
            "\u001b[0;31mNameError\u001b[0m                                 Traceback (most recent call last)",
            "Cell \u001b[0;32mIn[11], line 6\u001b[0m\n\u001b[1;32m      4\u001b[0m \u001b[38;5;28;01mfrom\u001b[39;00m \u001b[38;5;21;01msklearn\u001b[39;00m\u001b[38;5;21;01m.\u001b[39;00m\u001b[38;5;21;01mmodel_selection\u001b[39;00m \u001b[38;5;28;01mimport\u001b[39;00m cross_val_score\n\u001b[1;32m      5\u001b[0m log_model \u001b[38;5;241m=\u001b[39m LogisticRegression(random_state\u001b[38;5;241m=\u001b[39m\u001b[38;5;241m90\u001b[39m)\n\u001b[0;32m----> 6\u001b[0m log_model\u001b[38;5;241m.\u001b[39mfit(\u001b[43mX_train_scaled\u001b[49m, y_train_scaled)\n\u001b[1;32m      7\u001b[0m log_scores \u001b[38;5;241m=\u001b[39m cross_val_score(log_model, X_scaled, y_scaled, cv \u001b[38;5;241m=\u001b[39m \u001b[38;5;241m5\u001b[39m)\n\u001b[1;32m      8\u001b[0m y_pred_log \u001b[38;5;241m=\u001b[39m log_model\u001b[38;5;241m.\u001b[39mpredict(X_test_scaled)\n",
            "\u001b[0;31mNameError\u001b[0m: name 'X_train_scaled' is not defined"
          ],
          "output_type": "error"
        }
      ],
      "execution_count": 11
    },
    {
      "id": "b4470157-8b41-4303-8f1e-f0cb30aac7cc",
      "cell_type": "code",
      "source": "# Neural Network\nfrom sklearn.neural_network import MLPClassifier\nfrom sklearn.model_selection import cross_val_score\nnn_model = MLPClassifier(hidden_layer_sizes=(100,), max_iter=500, random_state=90)\nnn_model.fit(X_train_scaled, y_train_scaled)\nnn_model_scores = cross_val_score(nn_model, X_scaled,y_scaled, cv=5)\ny_pred_nn = nn_model.predict(X_test_scaled)\nprint(\"Neural Network Accuracy:\", accuracy_score(y_test_scaled, y_pred_nn))\nprint(\"Neural Network CV score :\" , nn_model_scores.mean())",
      "metadata": {
        "trusted": true
      },
      "outputs": [
        {
          "ename": "<class 'NameError'>",
          "evalue": "name 'X_train_scaled' is not defined",
          "traceback": [
            "\u001b[0;31m---------------------------------------------------------------------------\u001b[0m",
            "\u001b[0;31mNameError\u001b[0m                                 Traceback (most recent call last)",
            "Cell \u001b[0;32mIn[12], line 5\u001b[0m\n\u001b[1;32m      3\u001b[0m \u001b[38;5;28;01mfrom\u001b[39;00m \u001b[38;5;21;01msklearn\u001b[39;00m\u001b[38;5;21;01m.\u001b[39;00m\u001b[38;5;21;01mmodel_selection\u001b[39;00m \u001b[38;5;28;01mimport\u001b[39;00m cross_val_score\n\u001b[1;32m      4\u001b[0m nn_model \u001b[38;5;241m=\u001b[39m MLPClassifier(hidden_layer_sizes\u001b[38;5;241m=\u001b[39m(\u001b[38;5;241m100\u001b[39m,), max_iter\u001b[38;5;241m=\u001b[39m\u001b[38;5;241m500\u001b[39m, random_state\u001b[38;5;241m=\u001b[39m\u001b[38;5;241m90\u001b[39m)\n\u001b[0;32m----> 5\u001b[0m nn_model\u001b[38;5;241m.\u001b[39mfit(\u001b[43mX_train_scaled\u001b[49m, y_train_scaled)\n\u001b[1;32m      6\u001b[0m nn_model_scores \u001b[38;5;241m=\u001b[39m cross_val_score(nn_model, X_scaled,y_scaled, cv\u001b[38;5;241m=\u001b[39m\u001b[38;5;241m5\u001b[39m)\n\u001b[1;32m      7\u001b[0m y_pred_nn \u001b[38;5;241m=\u001b[39m nn_model\u001b[38;5;241m.\u001b[39mpredict(X_test_scaled)\n",
            "\u001b[0;31mNameError\u001b[0m: name 'X_train_scaled' is not defined"
          ],
          "output_type": "error"
        }
      ],
      "execution_count": 12
    },
    {
      "id": "be0da073-a3d9-458d-8670-c7f01a9dbf4f",
      "cell_type": "code",
      "source": "# XGBoost\nfrom xgboost import XGBClassifier\nxgb_model = XGBClassifier(random_state=90, use_label_encoder=False, eval_metric='logloss')\nxgb_model.fit(X_train_capped, y_train_capped)\nxgb_scores = cross_val_score(xgb_model, x_capped, y_capped, cv=5)\ny_pred_xgb = xgb_model.predict(X_test_capped)\nprint(\"XGBoost Accuracy:\", accuracy_score(y_test_capped, y_pred_xgb))\nprint(\"XGBoost CV score :\" , nn_model_scores.mean())",
      "metadata": {
        "trusted": true
      },
      "outputs": [
        {
          "ename": "<class 'NameError'>",
          "evalue": "name 'X_train_capped' is not defined",
          "traceback": [
            "\u001b[0;31m---------------------------------------------------------------------------\u001b[0m",
            "\u001b[0;31mNameError\u001b[0m                                 Traceback (most recent call last)",
            "Cell \u001b[0;32mIn[13], line 4\u001b[0m\n\u001b[1;32m      2\u001b[0m \u001b[38;5;28;01mfrom\u001b[39;00m \u001b[38;5;21;01mxgboost\u001b[39;00m \u001b[38;5;28;01mimport\u001b[39;00m XGBClassifier\n\u001b[1;32m      3\u001b[0m xgb_model \u001b[38;5;241m=\u001b[39m XGBClassifier(random_state\u001b[38;5;241m=\u001b[39m\u001b[38;5;241m90\u001b[39m, use_label_encoder\u001b[38;5;241m=\u001b[39m\u001b[38;5;28;01mFalse\u001b[39;00m, eval_metric\u001b[38;5;241m=\u001b[39m\u001b[38;5;124m'\u001b[39m\u001b[38;5;124mlogloss\u001b[39m\u001b[38;5;124m'\u001b[39m)\n\u001b[0;32m----> 4\u001b[0m xgb_model\u001b[38;5;241m.\u001b[39mfit(\u001b[43mX_train_capped\u001b[49m, y_train_capped)\n\u001b[1;32m      5\u001b[0m xgb_scores \u001b[38;5;241m=\u001b[39m cross_val_score(xgb_model, x_capped, y_capped, cv\u001b[38;5;241m=\u001b[39m\u001b[38;5;241m5\u001b[39m)\n\u001b[1;32m      6\u001b[0m y_pred_xgb \u001b[38;5;241m=\u001b[39m xgb_model\u001b[38;5;241m.\u001b[39mpredict(X_test_capped)\n",
            "\u001b[0;31mNameError\u001b[0m: name 'X_train_capped' is not defined"
          ],
          "output_type": "error"
        }
      ],
      "execution_count": 13
    },
    {
      "id": "e527a422-b1ae-467a-ae9b-67d2767d6b60",
      "cell_type": "code",
      "source": "# Random Forest\nfrom sklearn.ensemble import RandomForestClassifier\n\nrf_model = RandomForestClassifier(random_state=90)\nrf_model.fit(X_train_unmodified, y_train_unmodified)\nrf_scores = cross_val_score(rf_model, X_unmodified, y_unmodified, cv=5)\ny_pred_rf = rf_model.predict(X_test_unmodified)\nprint(\"Random Forest Accuracy:\", accuracy_score(y_test_unmodified, y_pred_rf))\nprint(\"Rando CV score :\" , rf_scores.mean())",
      "metadata": {
        "trusted": true
      },
      "outputs": [
        {
          "ename": "<class 'NameError'>",
          "evalue": "name 'X_train_unmodified' is not defined",
          "traceback": [
            "\u001b[0;31m---------------------------------------------------------------------------\u001b[0m",
            "\u001b[0;31mNameError\u001b[0m                                 Traceback (most recent call last)",
            "Cell \u001b[0;32mIn[14], line 5\u001b[0m\n\u001b[1;32m      2\u001b[0m \u001b[38;5;28;01mfrom\u001b[39;00m \u001b[38;5;21;01msklearn\u001b[39;00m\u001b[38;5;21;01m.\u001b[39;00m\u001b[38;5;21;01mensemble\u001b[39;00m \u001b[38;5;28;01mimport\u001b[39;00m RandomForestClassifier\n\u001b[1;32m      4\u001b[0m rf_model \u001b[38;5;241m=\u001b[39m RandomForestClassifier(random_state\u001b[38;5;241m=\u001b[39m\u001b[38;5;241m90\u001b[39m)\n\u001b[0;32m----> 5\u001b[0m rf_model\u001b[38;5;241m.\u001b[39mfit(\u001b[43mX_train_unmodified\u001b[49m, y_train_unmodified)\n\u001b[1;32m      6\u001b[0m rf_scores \u001b[38;5;241m=\u001b[39m cross_val_score(rf_model, X_unmodified, y_unmodified, cv\u001b[38;5;241m=\u001b[39m\u001b[38;5;241m5\u001b[39m)\n\u001b[1;32m      7\u001b[0m y_pred_rf \u001b[38;5;241m=\u001b[39m rf_model\u001b[38;5;241m.\u001b[39mpredict(X_test_unmodified)\n",
            "\u001b[0;31mNameError\u001b[0m: name 'X_train_unmodified' is not defined"
          ],
          "output_type": "error"
        }
      ],
      "execution_count": 14
    }
  ]
}